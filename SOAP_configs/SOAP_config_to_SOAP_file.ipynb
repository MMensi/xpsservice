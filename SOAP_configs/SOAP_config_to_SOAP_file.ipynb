{
  "cells": [
    {
      "cell_type": "markdown",
      "metadata": {
        "id": "vTm2nq7QdoYq"
      },
      "source": [
        "# Creates SOAP config files from SOAP config"
      ]
    },
    {
      "cell_type": "code",
      "execution_count": 7,
      "metadata": {
        "colab": {
          "base_uri": "https://localhost:8080/"
        },
        "id": "ORMN1GKnh1iv",
        "outputId": "a258ed0d-24b4-4979-ac9d-46f4c8aaa844"
      },
      "outputs": [
        {
          "name": "stdout",
          "output_type": "stream",
          "text": [
            "Collecting quippy-ase\n",
            "  Downloading quippy_ase-0.9.14-cp310-cp310-manylinux_2_17_x86_64.manylinux2014_x86_64.whl (31.4 MB)\n",
            "\u001b[2K     \u001b[90m━━━━━━━━━━━━━━━━━━━━━━━━━━━━━━━━━━━━━━━━\u001b[0m \u001b[32m31.4/31.4 MB\u001b[0m \u001b[31m20.8 MB/s\u001b[0m eta \u001b[36m0:00:00\u001b[0m\n",
            "\u001b[?25hRequirement already satisfied: numpy>=1.13 in /usr/local/lib/python3.10/dist-packages (from quippy-ase) (1.25.2)\n",
            "Collecting f90wrap>=0.2.6 (from quippy-ase)\n",
            "  Downloading f90wrap-0.2.13-cp310-cp310-manylinux_2_17_x86_64.manylinux2014_x86_64.whl (107 kB)\n",
            "\u001b[2K     \u001b[90m━━━━━━━━━━━━━━━━━━━━━━━━━━━━━━━━━━━━━━━━\u001b[0m \u001b[32m107.6/107.6 kB\u001b[0m \u001b[31m13.4 MB/s\u001b[0m eta \u001b[36m0:00:00\u001b[0m\n",
            "\u001b[?25hCollecting ase>=3.17.0 (from quippy-ase)\n",
            "  Downloading ase-3.22.1-py3-none-any.whl (2.2 MB)\n",
            "\u001b[2K     \u001b[90m━━━━━━━━━━━━━━━━━━━━━━━━━━━━━━━━━━━━━━━━\u001b[0m \u001b[32m2.2/2.2 MB\u001b[0m \u001b[31m59.4 MB/s\u001b[0m eta \u001b[36m0:00:00\u001b[0m\n",
            "\u001b[?25hRequirement already satisfied: matplotlib>=3.1.0 in /usr/local/lib/python3.10/dist-packages (from ase>=3.17.0->quippy-ase) (3.7.1)\n",
            "Requirement already satisfied: scipy>=1.1.0 in /usr/local/lib/python3.10/dist-packages (from ase>=3.17.0->quippy-ase) (1.11.4)\n",
            "Requirement already satisfied: contourpy>=1.0.1 in /usr/local/lib/python3.10/dist-packages (from matplotlib>=3.1.0->ase>=3.17.0->quippy-ase) (1.2.1)\n",
            "Requirement already satisfied: cycler>=0.10 in /usr/local/lib/python3.10/dist-packages (from matplotlib>=3.1.0->ase>=3.17.0->quippy-ase) (0.12.1)\n",
            "Requirement already satisfied: fonttools>=4.22.0 in /usr/local/lib/python3.10/dist-packages (from matplotlib>=3.1.0->ase>=3.17.0->quippy-ase) (4.51.0)\n",
            "Requirement already satisfied: kiwisolver>=1.0.1 in /usr/local/lib/python3.10/dist-packages (from matplotlib>=3.1.0->ase>=3.17.0->quippy-ase) (1.4.5)\n",
            "Requirement already satisfied: packaging>=20.0 in /usr/local/lib/python3.10/dist-packages (from matplotlib>=3.1.0->ase>=3.17.0->quippy-ase) (24.0)\n",
            "Requirement already satisfied: pillow>=6.2.0 in /usr/local/lib/python3.10/dist-packages (from matplotlib>=3.1.0->ase>=3.17.0->quippy-ase) (9.4.0)\n",
            "Requirement already satisfied: pyparsing>=2.3.1 in /usr/local/lib/python3.10/dist-packages (from matplotlib>=3.1.0->ase>=3.17.0->quippy-ase) (3.1.2)\n",
            "Requirement already satisfied: python-dateutil>=2.7 in /usr/local/lib/python3.10/dist-packages (from matplotlib>=3.1.0->ase>=3.17.0->quippy-ase) (2.8.2)\n",
            "Requirement already satisfied: six>=1.5 in /usr/local/lib/python3.10/dist-packages (from python-dateutil>=2.7->matplotlib>=3.1.0->ase>=3.17.0->quippy-ase) (1.16.0)\n",
            "Installing collected packages: f90wrap, ase, quippy-ase\n",
            "Successfully installed ase-3.22.1 f90wrap-0.2.13 quippy-ase-0.9.14\n"
          ]
        }
      ],
      "source": [
        "!pip install quippy-ase"
      ]
    },
    {
      "cell_type": "code",
      "execution_count": 10,
      "metadata": {
        "colab": {
          "base_uri": "https://localhost:8080/",
          "height": 357
        },
        "id": "438Glhoth51O",
        "outputId": "962758f3-4248-4c25-d756-c83fb9934ea1"
      },
      "outputs": [
        {
          "ename": "ImportError",
          "evalue": "cannot import name 'from_config' from 'quippy.descriptors' (/usr/local/lib/python3.10/dist-packages/quippy/descriptors.py)",
          "output_type": "error",
          "traceback": [
            "\u001b[0;31m---------------------------------------------------------------------------\u001b[0m",
            "\u001b[0;31mImportError\u001b[0m                               Traceback (most recent call last)",
            "\u001b[0;32m<ipython-input-10-1f1a401af720>\u001b[0m in \u001b[0;36m<cell line: 2>\u001b[0;34m()\u001b[0m\n\u001b[1;32m      1\u001b[0m \u001b[0;32mfrom\u001b[0m \u001b[0mquippy\u001b[0m\u001b[0;34m.\u001b[0m\u001b[0mdescriptors\u001b[0m \u001b[0;32mimport\u001b[0m \u001b[0mDescriptor\u001b[0m\u001b[0;34m\u001b[0m\u001b[0;34m\u001b[0m\u001b[0m\n\u001b[0;32m----> 2\u001b[0;31m \u001b[0;32mfrom\u001b[0m \u001b[0mquippy\u001b[0m\u001b[0;34m.\u001b[0m\u001b[0mdescriptors\u001b[0m \u001b[0;32mimport\u001b[0m \u001b[0mfrom_config\u001b[0m\u001b[0;34m\u001b[0m\u001b[0;34m\u001b[0m\u001b[0m\n\u001b[0m",
            "\u001b[0;31mImportError\u001b[0m: cannot import name 'from_config' from 'quippy.descriptors' (/usr/local/lib/python3.10/dist-packages/quippy/descriptors.py)",
            "",
            "\u001b[0;31m---------------------------------------------------------------------------\u001b[0;32m\nNOTE: If your import is failing due to a missing package, you can\nmanually install dependencies using either !pip or !apt.\n\nTo view examples of installing some common dependencies, click the\n\"Open Examples\" button below.\n\u001b[0;31m---------------------------------------------------------------------------\u001b[0m\n"
          ]
        }
      ],
      "source": [
        "from quippy.descriptors import Descriptor"
      ]
    },
    {
      "cell_type": "markdown",
      "metadata": {
        "id": "Z3lUhjXehTSL"
      },
      "source": [
        "## Define the config"
      ]
    },
    {
      "cell_type": "code",
      "execution_count": 3,
      "metadata": {
        "colab": {
          "base_uri": "https://localhost:8080/"
        },
        "id": "MbAuHDNFdnzF",
        "outputId": "4279b72b-8eab-4467-aa7a-41e0aac9f77d"
      },
      "outputs": [
        {
          "name": "stdout",
          "output_type": "stream",
          "text": [
            "soap_turbo alpha_max={8 8 8} l_max=8 rcut_soft=3.7500 rcut_hard=4.2500 atom_sigma_r={0.5000 0.5000 0.5000} atom_sigma_t={0.5000 0.5000 0.5000}               atom_sigma_r_scaling={0. 0. 0.} atom_sigma_t_scaling={0. 0. 0.} radial_enhancement=1 amplitude_scaling={1. 1. 1.}               basis=\"poly3gauss\" scaling_mode=\"polynomial\" species_Z={1 6 8} n_species=3 central_index=2 central_weight={1. 1. 1.}               compress_mode=trivial\n"
          ]
        }
      ],
      "source": [
        "# Define the soap_config dictionary\n",
        "cutoff = 4.25\n",
        "dc = 0.5\n",
        "sigma = 0.5\n",
        "zeta = 6\n",
        "SOAP = {\"C\": 'soap_turbo alpha_max={8 8 8} l_max=8 rcut_soft=%.4f rcut_hard=%.4f atom_sigma_r={%.4f %.4f %.4f} atom_sigma_t={%.4f %.4f %.4f} atom_sigma_r_scaling={0. 0. 0.} atom_sigma_t_scaling={0. 0. 0.} radial_enhancement=1 amplitude_scaling={1. 1. 1.} basis=\"poly3gauss\" scaling_mode=\"polynomial\" species_Z={1 6 8} n_species=3 central_index=2 central_weight={1. 1. 1.} compress_mode=trivial' % (cutoff-dc, cutoff, *(6*[sigma])),\n",
        "        \"O\": 'soap_turbo alpha_max={8 8 8} l_max=8 rcut_soft=%.4f rcut_hard=%.4f atom_sigma_r={%.4f %.4f %.4f} atom_sigma_t={%.4f %.4f %.4f} atom_sigma_r_scaling={0. 0. 0.} atom_sigma_t_scaling={0. 0. 0.} radial_enhancement=1 amplitude_scaling={1. 1. 1.} basis=\"poly3gauss\" scaling_mode=\"polynomial\" species_Z={1 6 8} n_species=3 central_index=3 central_weight={1. 1. 1.} compress_mode=trivial' % (cutoff-dc, cutoff, *(6*[sigma]))}\n",
        "\n"
      ]
    },
    {
      "cell_type": "markdown",
      "metadata": {
        "id": "_kxvEVJRhVzB"
      },
      "source": [
        "## write to file"
      ]
    },
    {
      "cell_type": "code",
      "execution_count": null,
      "metadata": {
        "id": "haj55eLcebZL"
      },
      "outputs": [],
      "source": [
        "# Save the configuration for \"C\"\n",
        "with open('soap_config_C1s.txt', 'w') as f:\n",
        "    f.write(SOAP[\"C\"])\n",
        "\n",
        "# Save the configuration for \"O\"\n",
        "with open('soap_config_O1s.txt', 'w') as f:\n",
        "    f.write(SOAP[\"O\"])"
      ]
    },
    {
      "cell_type": "markdown",
      "metadata": {
        "id": "wDGvb3qEhX8y"
      },
      "source": [
        "## Read from file"
      ]
    },
    {
      "cell_type": "code",
      "execution_count": 5,
      "metadata": {
        "id": "33oQVH7chRZv"
      },
      "outputs": [],
      "source": [
        "# Load C configuration\n",
        "with open('soap_config_C1s.txt', 'r') as f:\n",
        "    C_config = f.read()\n",
        "\n",
        "# Load O configuration\n",
        "with open('soap_config_O1s.txt', 'r') as f:\n",
        "    O_config = f.read()"
      ]
    },
    {
      "cell_type": "code",
      "execution_count": 13,
      "metadata": {
        "colab": {
          "base_uri": "https://localhost:8080/"
        },
        "id": "vCZxx9NUiU-3",
        "outputId": "40915b5e-02bd-4c6a-d21b-eeae2eae6504"
      },
      "outputs": [
        {
          "name": "stdout",
          "output_type": "stream",
          "text": [
            "soap_turbo alpha_max={8 8 8} l_max=8 rcut_soft=3.7500 rcut_hard=4.2500 atom_sigma_r={0.5000 0.5000 0.5000} atom_sigma_t={0.5000 0.5000 0.5000}               atom_sigma_r_scaling={0. 0. 0.} atom_sigma_t_scaling={0. 0. 0.} radial_enhancement=1 amplitude_scaling={1. 1. 1.}               basis=\"poly3gauss\" scaling_mode=\"polynomial\" species_Z={1 6 8} n_species=3 central_index=2 central_weight={1. 1. 1.}               compress_mode=trivial\n"
          ]
        }
      ],
      "source": [
        "print(C_config)"
      ]
    },
    {
      "cell_type": "markdown",
      "metadata": {
        "id": "Al_GNUzhhZz4"
      },
      "source": [
        "## Calculate the descriptors"
      ]
    },
    {
      "cell_type": "code",
      "execution_count": 11,
      "metadata": {
        "id": "qNFDPBnshJtV"
      },
      "outputs": [],
      "source": [
        "soap_C = Descriptor(C_config)\n",
        "soap_O = Descriptor(O_config)"
      ]
    },
    {
      "cell_type": "code",
      "execution_count": 12,
      "metadata": {
        "colab": {
          "base_uri": "https://localhost:8080/"
        },
        "id": "i2prfOgFiN9x",
        "outputId": "f8f98252-dc97-4d68-fc75-012c844005a9"
      },
      "outputs": [
        {
          "name": "stdout",
          "output_type": "stream",
          "text": [
            "<quippy.descriptors.Descriptor object at 0x7a34700b4b50>\n"
          ]
        }
      ],
      "source": [
        "print(soap_C)"
      ]
    }
  ],
  "metadata": {
    "colab": {
      "provenance": []
    },
    "kernelspec": {
      "display_name": "Python 3",
      "name": "python3"
    },
    "language_info": {
      "name": "python"
    }
  },
  "nbformat": 4,
  "nbformat_minor": 0
}
