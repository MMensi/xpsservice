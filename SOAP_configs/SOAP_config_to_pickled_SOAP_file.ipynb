{
  "cells": [
    {
      "cell_type": "markdown",
      "metadata": {
        "id": "vTm2nq7QdoYq"
      },
      "source": [
        "# Creates a pickled SOAP config files from SOAP config"
      ]
    },
    {
      "cell_type": "code",
      "execution_count": 10,
      "metadata": {
        "colab": {
          "base_uri": "https://localhost:8080/"
        },
        "id": "ORMN1GKnh1iv",
        "outputId": "b3378fb5-b500-4430-aece-485e43eaba5f"
      },
      "outputs": [
        {
          "name": "stdout",
          "output_type": "stream",
          "text": [
            "Collecting quippy-ase\n",
            "  Downloading quippy_ase-0.9.14-cp310-cp310-manylinux_2_17_x86_64.manylinux2014_x86_64.whl (31.4 MB)\n",
            "\u001b[2K     \u001b[91m━━━━━━━━━━━━\u001b[0m\u001b[90m╺\u001b[0m\u001b[90m━━━━━━━━━━━━━━━━━━━━━━━━━━━\u001b[0m \u001b[32m9.4/31.4 MB\u001b[0m \u001b[31m4.3 MB/s\u001b[0m eta \u001b[36m0:00:06\u001b[0m\n",
            "\u001b[?25h\u001b[31mERROR: THESE PACKAGES DO NOT MATCH THE HASHES FROM THE REQUIREMENTS FILE. If you have updated the package versions, please update the hashes. Otherwise, examine the package contents carefully; someone may have tampered with them.\n",
            "    quippy-ase from https://files.pythonhosted.org/packages/fc/04/7a6d2ff8d34861edb6766c7ef621e20f87ea23876b31c21d69944d03f1a3/quippy_ase-0.9.14-cp310-cp310-manylinux_2_17_x86_64.manylinux2014_x86_64.whl:\n",
            "        Expected sha256 8e0265ce753dcae5f4d6cf26bd5afc3292b1ba42643f3228bc24380f98ffddb3\n",
            "             Got        a84afb6196076e67c356da578c0e43669ce1f87e872efda0018a71120cc2b00d\n",
            "\u001b[0m\u001b[31m\n",
            "\u001b[0m"
          ]
        }
      ],
      "source": [
        "!pip install quippy-ase"
      ]
    },
    {
      "cell_type": "code",
      "execution_count": 8,
      "metadata": {
        "colab": {
          "base_uri": "https://localhost:8080/",
          "height": 339
        },
        "id": "438Glhoth51O",
        "outputId": "91304b05-f5e9-4d8a-f431-4e6a68d83c9c"
      },
      "outputs": [
        {
          "ename": "ModuleNotFoundError",
          "evalue": "No module named 'quippy'",
          "output_type": "error",
          "traceback": [
            "\u001b[0;31m---------------------------------------------------------------------------\u001b[0m",
            "\u001b[0;31mModuleNotFoundError\u001b[0m                       Traceback (most recent call last)",
            "\u001b[0;32m<ipython-input-8-b2f1d6fc0939>\u001b[0m in \u001b[0;36m<cell line: 1>\u001b[0;34m()\u001b[0m\n\u001b[0;32m----> 1\u001b[0;31m \u001b[0;32mfrom\u001b[0m \u001b[0mquippy\u001b[0m\u001b[0;34m.\u001b[0m\u001b[0mdescriptors\u001b[0m \u001b[0;32mimport\u001b[0m \u001b[0mDescriptor\u001b[0m\u001b[0;34m\u001b[0m\u001b[0;34m\u001b[0m\u001b[0m\n\u001b[0m\u001b[1;32m      2\u001b[0m \u001b[0;32mfrom\u001b[0m \u001b[0mase\u001b[0m \u001b[0;32mimport\u001b[0m \u001b[0mAtoms\u001b[0m\u001b[0;34m\u001b[0m\u001b[0;34m\u001b[0m\u001b[0m\n",
            "\u001b[0;31mModuleNotFoundError\u001b[0m: No module named 'quippy'",
            "",
            "\u001b[0;31m---------------------------------------------------------------------------\u001b[0;32m\nNOTE: If your import is failing due to a missing package, you can\nmanually install dependencies using either !pip or !apt.\n\nTo view examples of installing some common dependencies, click the\n\"Open Examples\" button below.\n\u001b[0;31m---------------------------------------------------------------------------\u001b[0m\n"
          ]
        }
      ],
      "source": [
        "from quippy.descriptors import Descriptor\n",
        "from ase import Atoms"
      ]
    },
    {
      "cell_type": "code",
      "execution_count": 9,
      "metadata": {
        "id": "bJEE_CIT1o72"
      },
      "outputs": [],
      "source": [
        "import pickle"
      ]
    },
    {
      "cell_type": "markdown",
      "metadata": {
        "id": "vYNdzbKxW28p"
      },
      "source": []
    },
    {
      "cell_type": "markdown",
      "metadata": {
        "id": "Z3lUhjXehTSL"
      },
      "source": [
        "## Define the config"
      ]
    },
    {
      "cell_type": "code",
      "execution_count": 3,
      "metadata": {
        "id": "MbAuHDNFdnzF"
      },
      "outputs": [],
      "source": [
        "# Define the soap_config dictionary\n",
        "cutoff = 4.25; dc = 0.5; sigma = 0.5; zeta = 6\n",
        "SOAP = {\"C\": 'soap_turbo alpha_max={8 8 8} l_max=8 rcut_soft=%.4f rcut_hard=%.4f atom_sigma_r={%.4f %.4f %.4f} atom_sigma_t={%.4f %.4f %.4f} atom_sigma_r_scaling={0. 0. 0.} atom_sigma_t_scaling={0. 0. 0.} radial_enhancement=1 amplitude_scaling={1. 1. 1.} basis=\"poly3gauss\" scaling_mode=\"polynomial\" species_Z={1 6 8} n_species=3 central_index=2 central_weight={1. 1. 1.} compress_mode=trivial' % (cutoff-dc, cutoff, *(6*[sigma])),\n",
        "        \"O\": 'soap_turbo alpha_max={8 8 8} l_max=8 rcut_soft=%.4f rcut_hard=%.4f atom_sigma_r={%.4f %.4f %.4f} atom_sigma_t={%.4f %.4f %.4f} atom_sigma_r_scaling={0. 0. 0.} atom_sigma_t_scaling={0. 0. 0.} radial_enhancement=1 amplitude_scaling={1. 1. 1.} basis=\"poly3gauss\" scaling_mode=\"polynomial\" species_Z={1 6 8} n_species=3 central_index=3 central_weight={1. 1. 1.} compress_mode=trivial' % (cutoff-dc, cutoff, *(6*[sigma]))}"
      ]
    },
    {
      "cell_type": "code",
      "execution_count": 4,
      "metadata": {
        "colab": {
          "base_uri": "https://localhost:8080/"
        },
        "id": "aQdy0o9JX4uV",
        "outputId": "54b24715-a06f-413d-a565-bc869b36e193"
      },
      "outputs": [
        {
          "name": "stdout",
          "output_type": "stream",
          "text": [
            "soap_turbo alpha_max={8 8 8} l_max=8 rcut_soft=3.7500 rcut_hard=4.2500 atom_sigma_r={0.5000 0.5000 0.5000} atom_sigma_t={0.5000 0.5000 0.5000} atom_sigma_r_scaling={0. 0. 0.} atom_sigma_t_scaling={0. 0. 0.} radial_enhancement=1 amplitude_scaling={1. 1. 1.} basis=\"poly3gauss\" scaling_mode=\"polynomial\" species_Z={1 6 8} n_species=3 central_index=2 central_weight={1. 1. 1.} compress_mode=trivial\n"
          ]
        }
      ],
      "source": [
        "print(SOAP[\"C\"])"
      ]
    },
    {
      "cell_type": "markdown",
      "metadata": {
        "id": "A94XvZzz1tQA"
      },
      "source": [
        "## Pickle the descriptor"
      ]
    },
    {
      "cell_type": "code",
      "execution_count": 5,
      "metadata": {
        "colab": {
          "base_uri": "https://localhost:8080/",
          "height": 198
        },
        "id": "TJ7_Srj71xBw",
        "outputId": "02b68664-e137-4c58-892f-0b964e20dba9"
      },
      "outputs": [
        {
          "ename": "NameError",
          "evalue": "name 'Descriptor' is not defined",
          "output_type": "error",
          "traceback": [
            "\u001b[0;31m---------------------------------------------------------------------------\u001b[0m",
            "\u001b[0;31mNameError\u001b[0m                                 Traceback (most recent call last)",
            "\u001b[0;32m<ipython-input-5-c26ce7179c64>\u001b[0m in \u001b[0;36m<cell line: 1>\u001b[0;34m()\u001b[0m\n\u001b[0;32m----> 1\u001b[0;31m \u001b[0msoap_descriptor_C\u001b[0m \u001b[0;34m=\u001b[0m \u001b[0mDescriptor\u001b[0m\u001b[0;34m(\u001b[0m\u001b[0mSOAP\u001b[0m\u001b[0;34m[\u001b[0m\u001b[0;34m\"C\"\u001b[0m\u001b[0;34m]\u001b[0m\u001b[0;34m)\u001b[0m\u001b[0;34m\u001b[0m\u001b[0;34m\u001b[0m\u001b[0m\n\u001b[0m\u001b[1;32m      2\u001b[0m \u001b[0msoap_descriptor_O\u001b[0m \u001b[0;34m=\u001b[0m \u001b[0mDescriptor\u001b[0m\u001b[0;34m(\u001b[0m\u001b[0mSOAP\u001b[0m\u001b[0;34m[\u001b[0m\u001b[0;34m\"O\"\u001b[0m\u001b[0;34m]\u001b[0m\u001b[0;34m)\u001b[0m\u001b[0;34m\u001b[0m\u001b[0;34m\u001b[0m\u001b[0m\n\u001b[1;32m      3\u001b[0m \u001b[0;34m\u001b[0m\u001b[0m\n\u001b[1;32m      4\u001b[0m \u001b[0;34m\u001b[0m\u001b[0m\n",
            "\u001b[0;31mNameError\u001b[0m: name 'Descriptor' is not defined"
          ]
        }
      ],
      "source": [
        "soap_descriptor_C = Descriptor(SOAP[\"C\"])\n",
        "soap_descriptor_O = Descriptor(SOAP[\"O\"])\n",
        "\n",
        "\n"
      ]
    },
    {
      "cell_type": "code",
      "execution_count": null,
      "metadata": {
        "id": "8KQ3irIU1-fT"
      },
      "outputs": [],
      "source": [
        "# Pickling the SoapDescriptor\n",
        "with open(\"soap_descriptor_C.pkl\", \"wb\") as f:\n",
        "    pickle.dump(soap_descriptor_C, f)\n",
        "\n",
        "# Pickling the SoapDescriptor\n",
        "with open(\"soap_descriptor_O.pkl\", \"wb\") as f:\n",
        "    pickle.dump(soap_descriptor_O, f)"
      ]
    },
    {
      "cell_type": "code",
      "execution_count": null,
      "metadata": {
        "id": "d4EAX6RJ2S9x"
      },
      "outputs": [],
      "source": [
        "# Unpickling the SoapDescriptor\n",
        "with open(\"soap_descriptor_C.pkl\", \"rb\") as f:\n",
        "    loaded_descriptor_C = pickle.load(f)\n",
        "\n",
        "# Unpickling the SoapDescriptor\n",
        "with open(\"soap_descriptor_O.pkl\", \"rb\") as f:\n",
        "#    loaded_descriptor_O = pickle.load(f)"
      ]
    },
    {
      "cell_type": "code",
      "execution_count": null,
      "metadata": {
        "id": "mXtNVa9iTxDr"
      },
      "outputs": [],
      "source": [
        "#check descriptor pickling success\n",
        "import ase\n",
        "import ase.build\n",
        "from quippy.convert import ase_to_quip\n",
        "\n",
        "# this is a two atom structure, not the cubic with 8\n",
        "at = ase_to_quip(ase.build.bulk('C', 'diamond', 3.5))\n"
      ]
    },
    {
      "cell_type": "code",
      "execution_count": null,
      "metadata": {
        "colab": {
          "base_uri": "https://localhost:8080/"
        },
        "id": "sb3EiqTFT6UV",
        "outputId": "6ce8a936-6d02-42de-ebe7-c2e97f0403e7"
      },
      "outputs": [
        {
          "data": {
            "text/plain": [
              "['C', 'C']"
            ]
          },
          "execution_count": 27,
          "metadata": {},
          "output_type": "execute_result"
        }
      ],
      "source": [
        "at.get_chemical_symbols()"
      ]
    },
    {
      "cell_type": "code",
      "execution_count": null,
      "metadata": {
        "colab": {
          "base_uri": "https://localhost:8080/"
        },
        "id": "XYSy1F0OT88Z",
        "outputId": "25581ac6-6d0f-4e88-d001-192f200eff55"
      },
      "outputs": [
        {
          "data": {
            "text/plain": [
              "array([ True,  True,  True])"
            ]
          },
          "execution_count": 28,
          "metadata": {},
          "output_type": "execute_result"
        }
      ],
      "source": [
        "at.get_pbc()"
      ]
    },
    {
      "cell_type": "code",
      "execution_count": 11,
      "metadata": {
        "colab": {
          "base_uri": "https://localhost:8080/",
          "height": 162
        },
        "id": "tDEVXGMiUSwk",
        "outputId": "222c2350-32f8-4d70-cc96-c0af60d7e620"
      },
      "outputs": [
        {
          "ename": "NameError",
          "evalue": "name 'soap_descriptor_C' is not defined",
          "output_type": "error",
          "traceback": [
            "\u001b[0;31m---------------------------------------------------------------------------\u001b[0m",
            "\u001b[0;31mNameError\u001b[0m                                 Traceback (most recent call last)",
            "\u001b[0;32m<ipython-input-11-48d8454f0eea>\u001b[0m in \u001b[0;36m<cell line: 1>\u001b[0;34m()\u001b[0m\n\u001b[0;32m----> 1\u001b[0;31m \u001b[0md\u001b[0m \u001b[0;34m=\u001b[0m \u001b[0msoap_descriptor_C\u001b[0m\u001b[0;34m.\u001b[0m\u001b[0mcalc\u001b[0m\u001b[0;34m(\u001b[0m\u001b[0mat\u001b[0m\u001b[0;34m)\u001b[0m\u001b[0;34m\u001b[0m\u001b[0;34m\u001b[0m\u001b[0m\n\u001b[0m\u001b[1;32m      2\u001b[0m \u001b[0md\u001b[0m\u001b[0;34m\u001b[0m\u001b[0;34m\u001b[0m\u001b[0m\n",
            "\u001b[0;31mNameError\u001b[0m: name 'soap_descriptor_C' is not defined"
          ]
        }
      ],
      "source": [
        "d = soap_descriptor_C.calc(at)\n",
        "d"
      ]
    },
    {
      "cell_type": "code",
      "execution_count": null,
      "metadata": {
        "colab": {
          "base_uri": "https://localhost:8080/"
        },
        "id": "Up6Tvq0YUByC",
        "outputId": "b5ac97f8-f35f-4684-9266-1b7f44d3a9ca"
      },
      "outputs": [
        {
          "data": {
            "text/plain": [
              "{'covariance_cutoff': array([0.30420743, 0.30420743, 0.30420743, 1.        , 1.        ,\n",
              "        1.        , 1.        , 1.        , 1.        , 1.        ,\n",
              "        1.        , 1.        , 1.        , 1.        , 1.        ,\n",
              "        1.        , 0.30420743, 0.30420743, 1.        , 1.        ,\n",
              "        1.        , 1.        , 1.        , 0.30420743, 1.        ,\n",
              "        1.        , 1.        , 0.30420743, 1.        , 0.30420743,\n",
              "        1.        , 1.        , 0.30420743, 1.        , 0.30420743,\n",
              "        1.        , 1.        , 1.        , 1.        , 1.        ,\n",
              "        0.30420743, 1.        , 1.        , 0.30420743, 1.        ,\n",
              "        1.        , 0.30420743, 0.30420743, 0.30420743, 1.        ,\n",
              "        1.        , 1.        , 1.        , 1.        , 1.        ,\n",
              "        1.        , 0.30420743, 0.30420743, 1.        , 1.        ,\n",
              "        1.        , 0.30420743, 1.        , 1.        , 0.30420743,\n",
              "        0.30420743, 1.        , 0.30420743, 0.30420743, 1.        ,\n",
              "        1.        , 0.30420743, 1.        , 0.30420743, 1.        ,\n",
              "        1.        , 1.        , 1.        , 1.        , 1.        ,\n",
              "        1.        , 1.        , 1.        , 1.        , 1.        ,\n",
              "        1.        , 1.        , 1.        , 1.        , 1.        ,\n",
              "        1.        , 1.        ]),\n",
              " 'data': array([[3.81403658],\n",
              "        [3.81403658],\n",
              "        [3.81403658],\n",
              "        [2.90204669],\n",
              "        [2.90204669],\n",
              "        [3.5       ],\n",
              "        [2.90204669],\n",
              "        [1.51554446],\n",
              "        [2.47487373],\n",
              "        [2.90204669],\n",
              "        [2.47487373],\n",
              "        [2.90204669],\n",
              "        [3.5       ],\n",
              "        [2.90204669],\n",
              "        [2.47487373],\n",
              "        [3.5       ],\n",
              "        [3.81403658],\n",
              "        [3.81403658],\n",
              "        [2.90204669],\n",
              "        [1.51554446],\n",
              "        [2.47487373],\n",
              "        [2.90204669],\n",
              "        [2.47487373],\n",
              "        [3.81403658],\n",
              "        [1.51554446],\n",
              "        [2.47487373],\n",
              "        [1.51554446],\n",
              "        [3.81403658],\n",
              "        [2.47487373],\n",
              "        [3.81403658],\n",
              "        [2.90204669],\n",
              "        [2.47487373],\n",
              "        [3.81403658],\n",
              "        [2.47487373],\n",
              "        [3.81403658],\n",
              "        [2.90204669],\n",
              "        [3.5       ],\n",
              "        [2.90204669],\n",
              "        [2.47487373],\n",
              "        [3.5       ],\n",
              "        [3.81403658],\n",
              "        [2.90204669],\n",
              "        [2.47487373],\n",
              "        [3.81403658],\n",
              "        [2.47487373],\n",
              "        [3.5       ],\n",
              "        [3.81403658],\n",
              "        [3.81403658],\n",
              "        [3.81403658],\n",
              "        [2.90204669],\n",
              "        [2.90204669],\n",
              "        [2.90204669],\n",
              "        [1.51554446],\n",
              "        [2.90204669],\n",
              "        [2.90204669],\n",
              "        [2.90204669],\n",
              "        [3.81403658],\n",
              "        [3.81403658],\n",
              "        [2.90204669],\n",
              "        [1.51554446],\n",
              "        [2.90204669],\n",
              "        [3.81403658],\n",
              "        [1.51554446],\n",
              "        [1.51554446],\n",
              "        [3.81403658],\n",
              "        [3.81403658],\n",
              "        [2.90204669],\n",
              "        [3.81403658],\n",
              "        [3.81403658],\n",
              "        [2.90204669],\n",
              "        [2.90204669],\n",
              "        [3.81403658],\n",
              "        [2.90204669],\n",
              "        [3.81403658],\n",
              "        [3.5       ],\n",
              "        [2.47487373],\n",
              "        [2.47487373],\n",
              "        [3.5       ],\n",
              "        [2.47487373],\n",
              "        [3.5       ],\n",
              "        [2.47487373],\n",
              "        [2.47487373],\n",
              "        [2.47487373],\n",
              "        [2.47487373],\n",
              "        [2.47487373],\n",
              "        [2.47487373],\n",
              "        [3.5       ],\n",
              "        [2.47487373],\n",
              "        [3.5       ],\n",
              "        [2.47487373],\n",
              "        [2.47487373],\n",
              "        [3.5       ]]),\n",
              " 'has_data': array([1, 1, 1, 1, 1, 1, 1, 1, 1, 1, 1, 1, 1, 1, 1, 1, 1, 1, 1, 1, 1, 1,\n",
              "        1, 1, 1, 1, 1, 1, 1, 1, 1, 1, 1, 1, 1, 1, 1, 1, 1, 1, 1, 1, 1, 1,\n",
              "        1, 1, 1, 1, 1, 1, 1, 1, 1, 1, 1, 1, 1, 1, 1, 1, 1, 1, 1, 1, 1, 1,\n",
              "        1, 1, 1, 1, 1, 1, 1, 1, 1, 1, 1, 1, 1, 1, 1, 1, 1, 1, 1, 1, 1, 1,\n",
              "        1, 1, 1, 1]),\n",
              " 'ci': array([1, 2, 1, 2, 1, 2, 1, 2, 1, 2, 1, 1, 1, 2, 1, 2, 1, 1, 1, 2, 1, 1,\n",
              "        1, 2, 1, 1, 1, 2, 1, 1, 1, 1, 1, 2, 1, 2, 1, 2, 1, 2, 1, 1, 1, 2,\n",
              "        1, 1, 1, 2, 1, 2, 1, 1, 1, 2, 1, 2, 1, 1, 1, 2, 1, 2, 1, 1, 1, 2,\n",
              "        1, 1, 1, 2, 1, 2, 1, 1, 1, 2, 1, 1, 1, 1, 1, 2, 1, 2, 1, 1, 1, 2,\n",
              "        1, 1, 1, 1, 2, 1, 2, 1, 2, 1, 2, 1, 2, 1, 2, 1, 2, 1, 2, 1, 2, 1,\n",
              "        2, 1, 2, 1, 2, 1, 2, 1, 2, 1, 2, 1, 2, 1, 2, 1, 2, 1, 2, 1, 2, 1,\n",
              "        2, 1, 2, 1, 2, 1, 2, 1, 2, 1, 2, 1, 2, 1, 2, 1, 2, 2, 2, 2, 2, 2,\n",
              "        2, 2, 2, 2, 2, 2, 2, 2, 2, 2, 2, 2, 2, 2, 2, 2, 2, 2, 2, 2, 2, 2,\n",
              "        2, 2, 2, 2, 2, 2, 2, 2], dtype=int32)}"
            ]
          },
          "execution_count": 21,
          "metadata": {},
          "output_type": "execute_result"
        }
      ],
      "source": [
        "d_loaded = loaded_descriptor_C.calc(at)\n",
        "d_loaded"
      ]
    },
    {
      "cell_type": "code",
      "execution_count": null,
      "metadata": {
        "colab": {
          "base_uri": "https://localhost:8080/",
          "height": 180
        },
        "id": "aaFZKQMw2eYe",
        "outputId": "69b8cdfe-5c5b-40c2-ead0-bdf1ad26cfc7"
      },
      "outputs": [
        {
          "ename": "ValueError",
          "evalue": "Loaded SOAP descriptor is different from the initial descriptor",
          "output_type": "error",
          "traceback": [
            "\u001b[0;31m---------------------------------------------------------------------------\u001b[0m",
            "\u001b[0;31mValueError\u001b[0m                                Traceback (most recent call last)",
            "\u001b[0;32m<ipython-input-15-54a801c73aa7>\u001b[0m in \u001b[0;36m<cell line: 2>\u001b[0;34m()\u001b[0m\n\u001b[1;32m      1\u001b[0m \u001b[0;31m# Comparing loaded and initial descriptors\u001b[0m\u001b[0;34m\u001b[0m\u001b[0;34m\u001b[0m\u001b[0m\n\u001b[1;32m      2\u001b[0m \u001b[0;32mif\u001b[0m \u001b[0mloaded_descriptor_O\u001b[0m \u001b[0;34m!=\u001b[0m \u001b[0msoap_descriptor_O\u001b[0m\u001b[0;34m:\u001b[0m\u001b[0;34m\u001b[0m\u001b[0;34m\u001b[0m\u001b[0m\n\u001b[0;32m----> 3\u001b[0;31m     \u001b[0;32mraise\u001b[0m \u001b[0mValueError\u001b[0m\u001b[0;34m(\u001b[0m\u001b[0;34m\"Loaded SOAP descriptor is different from the initial descriptor\"\u001b[0m\u001b[0;34m)\u001b[0m\u001b[0;34m\u001b[0m\u001b[0;34m\u001b[0m\u001b[0m\n\u001b[0m",
            "\u001b[0;31mValueError\u001b[0m: Loaded SOAP descriptor is different from the initial descriptor"
          ]
        }
      ],
      "source": [
        "# Comparing loaded and initial descriptors\n",
        "if loaded_descriptor_C != soap_descriptor_C:\n",
        "    raise ValueError(\"Loaded SOAP descriptor is different from the initial descriptor\")"
      ]
    }
  ],
  "metadata": {
    "colab": {
      "provenance": []
    },
    "kernelspec": {
      "display_name": "Python 3",
      "name": "python3"
    },
    "language_info": {
      "name": "python"
    }
  },
  "nbformat": 4,
  "nbformat_minor": 0
}
